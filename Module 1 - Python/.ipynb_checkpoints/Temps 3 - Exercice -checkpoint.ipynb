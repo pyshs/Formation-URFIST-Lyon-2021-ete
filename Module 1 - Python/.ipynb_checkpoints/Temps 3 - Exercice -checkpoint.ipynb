{
 "cells": [
  {
   "cell_type": "markdown",
   "metadata": {},
   "source": [
    "1. Charger le fichier 'Data/Corpus.csv'\n",
    "2. Filtrer les articles qui mentionnent Macron\n",
    "3. Quels sont les termes les plus fréquents dans le fichier"
   ]
  }
 ],
 "metadata": {
  "kernelspec": {
   "display_name": "Python 3",
   "language": "python",
   "name": "python3"
  },
  "language_info": {
   "codemirror_mode": {
    "name": "ipython",
    "version": 3
   },
   "file_extension": ".py",
   "mimetype": "text/x-python",
   "name": "python",
   "nbconvert_exporter": "python",
   "pygments_lexer": "ipython3",
   "version": "3.7.7"
  }
 },
 "nbformat": 4,
 "nbformat_minor": 4
}
