{
 "cells": [
  {
   "cell_type": "markdown",
   "metadata": {},
   "source": [
    "# Les bases du langage Python\n",
    "\n",
    "- Prendre un script\n",
    "- L'exécuter (Console, Jupyter, etc.)\n",
    "- Le décortiquer"
   ]
  },
  {
   "cell_type": "code",
   "execution_count": 1,
   "metadata": {},
   "outputs": [
    {
     "name": "stdout",
     "output_type": "stream",
     "text": [
      " C'est l'histoire de deux potes... Les youtubeurs  McFly et Carlito vont bientôt tourner à l'Elysée une vidéo avec Emmanuel Macron, à la suite d'un pari gagné avec le chef de l'Etat. Portrait de ces deux rois du Web. \n",
      " Macron contre  McFly et Carlito : match nul et deux gagnants Les deux youtubeurs à succès ont mis en ligne hier matin la vidéo de leur concours d'anecdotes avec le président de la République. Un coup de com déjà vu par 6,7 millions de personnes. \n",
      " Devant  McFly et Carlito, Macron veut séduire les jeunes Dans la vidéo postée dimanche, il s'engage à mettre une photo des deux youtubeurs sur son bureau lors d'une prochaine prise de parole. \n",
      "Proportion d'articles contenant le terme dans le titre : 60.0 %\n"
     ]
    }
   ],
   "source": [
    "nombre_articles = 0\n",
    "motcle = \"Macron\"\n",
    "titres = [\" C'est l'histoire de deux potes... Les youtubeurs  McFly et Carlito vont bientôt tourner à l'Elysée une vidéo avec Emmanuel Macron, à la suite d'un pari gagné avec le chef de l'Etat. Portrait de ces deux rois du Web. \",\n",
    " \" McFly et Carlito aux portes de l'Elysée Si la vidéo des deux youtubeurs sur les gestes barrière atteint 10 millions de vues, le chef de l'Etat les recevra. Et c'est bien parti. \",\n",
    " ' Par Rosalie Lucas  Mcfly et Carlito, ministres ',\n",
    " \" Macron contre  McFly et Carlito : match nul et deux gagnants Les deux youtubeurs à succès ont mis en ligne hier matin la vidéo de leur concours d'anecdotes avec le président de la République. Un coup de com déjà vu par 6,7 millions de personnes. \",\n",
    " \" Devant  McFly et Carlito, Macron veut séduire les jeunes Dans la vidéo postée dimanche, il s'engage à mettre une photo des deux youtubeurs sur son bureau lors d'une prochaine prise de parole. \"]\n",
    "nombre_total_articles = len(titres)\n",
    "\n",
    "if nombre_total_articles > 0:\n",
    "    for i in titres:\n",
    "        if motcle in i:\n",
    "            print(i)\n",
    "            nombre_articles+=1\n",
    "else:\n",
    "    print(\"La liste est vide\")\n",
    "    \n",
    "proportion = 100*nombre_articles/nombre_total_articles\n",
    "print(\"Proportion d'articles contenant le terme dans le titre : {} %\".format(round(proportion,1)))"
   ]
  },
  {
   "cell_type": "markdown",
   "metadata": {},
   "source": [
    "## Variables\n",
    "\n",
    "- définir, nom, erreurs\n",
    " - des mots clés définis : https://docs.python.org/2/reference/lexical_analysis.html?highlight=keywords#keywords\n",
    "- manipuler\n",
    "- différents types\n",
    " - chaînes de caractères\n",
    " - listes\n",
    " - dictionnaires\n",
    " - tuples\n",
    " - booléens\n",
    "- variable et objet : des propriétés et des méthodes\n",
    "- les commentaires\n",
    "- les fonctions prédéfinies (len, type, print, str, etc.) + des modules déjà chargés\n",
    "- utiliser l'aide\n",
    "- les blocs qui organisent le script :\n",
    " - condition et if (mot clé in, opérateurs and, etc.)\n",
    " - boucles\n",
    " - définir une fonction\n",
    "- écrire dans un fichier : bloc width"
   ]
  }
 ],
 "metadata": {
  "kernelspec": {
   "display_name": "Python 3",
   "language": "python",
   "name": "python3"
  },
  "language_info": {
   "codemirror_mode": {
    "name": "ipython",
    "version": 3
   },
   "file_extension": ".py",
   "mimetype": "text/x-python",
   "name": "python",
   "nbconvert_exporter": "python",
   "pygments_lexer": "ipython3",
   "version": "3.7.7"
  }
 },
 "nbformat": 4,
 "nbformat_minor": 4
}
