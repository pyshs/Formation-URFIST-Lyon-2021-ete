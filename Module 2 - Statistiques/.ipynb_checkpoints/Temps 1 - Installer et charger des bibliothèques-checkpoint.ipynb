{
 "cells": [
  {
   "cell_type": "markdown",
   "metadata": {},
   "source": [
    "Des fonctions et des modules déjà présents : ex. math"
   ]
  },
  {
   "cell_type": "markdown",
   "metadata": {},
   "source": [
    "Des modules et des bibliothèques développés par d'autres\n",
    "- https://pypi.org/\n",
    "- Github"
   ]
  },
  {
   "cell_type": "markdown",
   "metadata": {},
   "source": [
    "Les scripts reposent sur ces bibliothèques spécialisées :\n",
    "\n",
    "- Les identifier (et leur stabilité)\n",
    "- Les installer\n",
    "- Les utiliser"
   ]
  },
  {
   "cell_type": "markdown",
   "metadata": {},
   "source": [
    "Prendre l'exemple de la bibliothèque pyshs vs. statsmodel"
   ]
  },
  {
   "cell_type": "markdown",
   "metadata": {},
   "source": [
    "Cas de la bibliothèque qu'on va utiliser maintenant : Pandas\n",
    "\n",
    "Quelques éléments d'histoire :\n",
    "\n",
    "- logique générale\n",
    "- structure des objets\n"
   ]
  }
 ],
 "metadata": {
  "kernelspec": {
   "display_name": "Python 3",
   "language": "python",
   "name": "python3"
  },
  "language_info": {
   "codemirror_mode": {
    "name": "ipython",
    "version": 3
   },
   "file_extension": ".py",
   "mimetype": "text/x-python",
   "name": "python",
   "nbconvert_exporter": "python",
   "pygments_lexer": "ipython3",
   "version": "3.7.7"
  }
 },
 "nbformat": 4,
 "nbformat_minor": 4
}
