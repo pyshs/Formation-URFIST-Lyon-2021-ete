{
 "cells": [
  {
   "cell_type": "markdown",
   "metadata": {},
   "source": [
    "# Utiliser Pandas\n",
    "\n",
    "Un monde  à part entière. Comme pour Excel, des personnes se spécialisent dans Pandas"
   ]
  },
  {
   "cell_type": "markdown",
   "metadata": {},
   "source": [
    "## Importer Pandas"
   ]
  },
  {
   "cell_type": "code",
   "execution_count": 3,
   "metadata": {},
   "outputs": [],
   "source": [
    "import pandas as pd"
   ]
  },
  {
   "cell_type": "markdown",
   "metadata": {},
   "source": [
    "<p style=\"margin-bottom:15cm;\"></p>"
   ]
  },
  {
   "cell_type": "markdown",
   "metadata": {},
   "source": [
    "## Localiser un fichier\n",
    "\n",
    "Se déplacer dans l'ordinateur pour ouvrir un fichier"
   ]
  },
  {
   "cell_type": "code",
   "execution_count": 1,
   "metadata": {},
   "outputs": [
    {
     "name": "stdout",
     "output_type": "stream",
     "text": [
      "/Users/emilien/Dropbox/Python pour les SHS/Formations/2021 URFIS Lyon/Module 2 - Statistiques\n"
     ]
    }
   ],
   "source": [
    "cd ."
   ]
  },
  {
   "cell_type": "code",
   "execution_count": 2,
   "metadata": {},
   "outputs": [
    {
     "name": "stdout",
     "output_type": "stream",
     "text": [
      "\u001b[34mData\u001b[m\u001b[m/\r\n",
      "Temps 0 - Exemple - Chloroquine - mis en forme.ipynb\r\n",
      "Temps 1 - Installer et charger des bibliothèques.ipynb\r\n",
      "Temps 2 - Manipuler des données avec Pandas.ipynb\r\n",
      "Temps 3 - Visualisations avec Matplotlib.ipynb\r\n",
      "Temps 4 - Statistiques avancées.ipynb\r\n",
      "Temps 5 - Exercice.ipynb\r\n"
     ]
    }
   ],
   "source": [
    "ls ."
   ]
  },
  {
   "cell_type": "markdown",
   "metadata": {},
   "source": [
    "## Charger un fichier"
   ]
  },
  {
   "cell_type": "code",
   "execution_count": 6,
   "metadata": {},
   "outputs": [],
   "source": [
    "corpus = pd.read_csv(\"./Data/Corpus.csv\")"
   ]
  },
  {
   "cell_type": "markdown",
   "metadata": {},
   "source": [
    "- Accéder à un élément : colonne, ligne\n",
    "- Sélectionner : loc, iloc\n",
    "- Filtrer : conditions\n",
    "- Transformer : columns, index\n",
    "- Différentes fonctions : isnull, notnull, str.contains, etc."
   ]
  },
  {
   "cell_type": "markdown",
   "metadata": {},
   "source": [
    "## Manipuler les données\n",
    "\n",
    "- créer une nouvelle colonne\n",
    "- appliquer une fonction sur toute la colonne\n",
    "- compter le nombre de mots d'une colonne\n",
    "- recoder le journal"
   ]
  },
  {
   "cell_type": "markdown",
   "metadata": {},
   "source": [
    "## Construire ses outils\n",
    "\n",
    "Recoder une date"
   ]
  },
  {
   "cell_type": "code",
   "execution_count": 8,
   "metadata": {},
   "outputs": [],
   "source": [
    "import regex as re\n",
    "import datetime\n",
    "\n",
    "def reco_date(x):\n",
    "    #conversion lettres/chiffres\n",
    "    mois = {\"janvier\":\"01\",\"février\":\"02\",\"mars\":\"03\",\n",
    "            \"avril\":\"04\",\"mai\":\"05\",\"juin\":\"06\",\"juillet\":\"07\",\n",
    "            \"août\":\"08\",\"septembre\":\"09\",\"octobre\":\"10\",\"novembre\":\"11\",\"décembre\":\"12\"}\n",
    "    \n",
    "    #Trouver le motif\n",
    "    t = re.findall(\"\\w+ \\w+ [0-9]{4}\",x)\n",
    "    \n",
    "    #Si pas trouvé, renvoyer rien\n",
    "    if len(t) <1:\n",
    "        return None\n",
    "    \n",
    "    #Sinon prendre le premier élément\n",
    "    t = t[0]\n",
    "    \n",
    "    #Remplacer le mois pour une mise en forme\n",
    "    for i in mois:\n",
    "        if i in t:\n",
    "            t = t.replace(i,\"/%s/\"%mois[i]).replace(\" \",\"\")\n",
    "\n",
    "    #Mettre sous la forme d'un objet datetime \n",
    "    t = datetime.datetime.strptime(t,\"%d/%m/%Y\")\n",
    "            \n",
    "    return t"
   ]
  },
  {
   "cell_type": "markdown",
   "metadata": {},
   "source": [
    "Sauvegarder"
   ]
  },
  {
   "cell_type": "markdown",
   "metadata": {},
   "source": [
    "## Statistiques et visualisations de base\n",
    "\n",
    "- value_counts\n",
    "- plot"
   ]
  }
 ],
 "metadata": {
  "kernelspec": {
   "display_name": "Python 3",
   "language": "python",
   "name": "python3"
  },
  "language_info": {
   "codemirror_mode": {
    "name": "ipython",
    "version": 3
   },
   "file_extension": ".py",
   "mimetype": "text/x-python",
   "name": "python",
   "nbconvert_exporter": "python",
   "pygments_lexer": "ipython3",
   "version": "3.7.7"
  }
 },
 "nbformat": 4,
 "nbformat_minor": 4
}
