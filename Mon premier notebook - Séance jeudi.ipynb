{
 "cells": [
  {
   "cell_type": "markdown",
   "id": "89021b25",
   "metadata": {},
   "source": [
    "## Mon script"
   ]
  },
  {
   "cell_type": "markdown",
   "id": "a08daf7a",
   "metadata": {},
   "source": [
    "**Copier/Coller d'un script**"
   ]
  },
  {
   "cell_type": "code",
   "execution_count": 73,
   "id": "6ac93119",
   "metadata": {},
   "outputs": [
    {
     "name": "stdout",
     "output_type": "stream",
     "text": [
      " C'est l'histoire de deux potes... Les youtubeurs  McFly et Carlito vont bientôt tourner à l'Elysée une vidéo avec Emmanuel Macron, à la suite d'un pari gagné avec le chef de l'Etat. Portrait de ces deux rois du Web. \n",
      " Macron contre  McFly et Carlito : match nul et deux gagnants Les deux youtubeurs à succès ont mis en ligne hier matin la vidéo de leur concours d'anecdotes avec le président de la République. Un coup de com déjà vu par 6,7 millions de personnes. \n",
      " Devant  McFly et Carlito, Macron veut séduire les jeunes Dans la vidéo postée dimanche, il s'engage à mettre une photo des deux youtubeurs sur son bureau lors d'une prochaine prise de parole. \n",
      "Proportion d'articles contenant le terme dans le titre : 60.0 %\n"
     ]
    }
   ],
   "source": [
    "# Définition des variables\n",
    "nombre_articles = 0\n",
    "motcle = \"Macron\"\n",
    "titres = [\" C'est l'histoire de deux potes... Les youtubeurs  McFly et Carlito vont bientôt tourner à l'Elysée une vidéo avec Emmanuel Macron, à la suite d'un pari gagné avec le chef de l'Etat. Portrait de ces deux rois du Web. \",\n",
    " \" McFly et Carlito aux portes de l'Elysée Si la vidéo des deux youtubeurs sur les gestes barrière atteint 10 millions de vues, le chef de l'Etat les recevra. Et c'est bien parti. \",\n",
    " ' Par Rosalie Lucas  Mcfly et Carlito, ministres ',\n",
    " \" Macron contre  McFly et Carlito : match nul et deux gagnants Les deux youtubeurs à succès ont mis en ligne hier matin la vidéo de leur concours d'anecdotes avec le président de la République. Un coup de com déjà vu par 6,7 millions de personnes. \",\n",
    " \" Devant  McFly et Carlito, Macron veut séduire les jeunes Dans la vidéo postée dimanche, il s'engage à mettre une photo des deux youtubeurs sur son bureau lors d'une prochaine prise de parole. \"]\n",
    "nombre_total_articles = len(titres)\n",
    "\n",
    "# Traitement de données\n",
    "if nombre_total_articles > 0:\n",
    "    for i in titres:\n",
    "        if motcle in i:\n",
    "            print(i)\n",
    "            nombre_articles+=1 #nombre_article = nombre_article + 1\n",
    "else:\n",
    "    print(\"La liste est vide\")\n",
    "    \n",
    "proportion = 100*nombre_articles/nombre_total_articles\n",
    "print(\"Proportion d'articles contenant le terme dans le titre : {} %\".format(round(proportion,1)))"
   ]
  },
  {
   "cell_type": "code",
   "execution_count": 2,
   "id": "95378027",
   "metadata": {},
   "outputs": [],
   "source": [
    "nombre_articles = 0"
   ]
  },
  {
   "cell_type": "code",
   "execution_count": 3,
   "id": "1f601e86",
   "metadata": {},
   "outputs": [
    {
     "data": {
      "text/plain": [
       "0"
      ]
     },
     "execution_count": 3,
     "metadata": {},
     "output_type": "execute_result"
    }
   ],
   "source": [
    "nombre_articles"
   ]
  },
  {
   "cell_type": "code",
   "execution_count": 4,
   "id": "92cb1b33",
   "metadata": {},
   "outputs": [],
   "source": [
    "nombre_articles = 1"
   ]
  },
  {
   "cell_type": "code",
   "execution_count": 5,
   "id": "2d0d4fc6",
   "metadata": {},
   "outputs": [
    {
     "data": {
      "text/plain": [
       "1"
      ]
     },
     "execution_count": 5,
     "metadata": {},
     "output_type": "execute_result"
    }
   ],
   "source": [
    "nombre_articles"
   ]
  },
  {
   "cell_type": "code",
   "execution_count": 7,
   "id": "7b9ac03c",
   "metadata": {},
   "outputs": [],
   "source": [
    "nb_a = 0"
   ]
  },
  {
   "cell_type": "code",
   "execution_count": 8,
   "id": "123a2852",
   "metadata": {},
   "outputs": [
    {
     "data": {
      "text/plain": [
       "2"
      ]
     },
     "execution_count": 8,
     "metadata": {},
     "output_type": "execute_result"
    }
   ],
   "source": [
    "nombre_articles + 1"
   ]
  },
  {
   "cell_type": "code",
   "execution_count": 9,
   "id": "d9d21aa9",
   "metadata": {},
   "outputs": [
    {
     "data": {
      "text/plain": [
       "int"
      ]
     },
     "execution_count": 9,
     "metadata": {},
     "output_type": "execute_result"
    }
   ],
   "source": [
    "type(nombre_articles)"
   ]
  },
  {
   "cell_type": "code",
   "execution_count": 10,
   "id": "61160bfc",
   "metadata": {},
   "outputs": [],
   "source": [
    "nombre_articles = 1.0"
   ]
  },
  {
   "cell_type": "code",
   "execution_count": 11,
   "id": "f69df1bc",
   "metadata": {},
   "outputs": [
    {
     "data": {
      "text/plain": [
       "float"
      ]
     },
     "execution_count": 11,
     "metadata": {},
     "output_type": "execute_result"
    }
   ],
   "source": [
    "type(nombre_articles)"
   ]
  },
  {
   "cell_type": "code",
   "execution_count": 12,
   "id": "855e78a6",
   "metadata": {},
   "outputs": [],
   "source": [
    "sadate = 20"
   ]
  },
  {
   "cell_type": "code",
   "execution_count": 13,
   "id": "5af3d028",
   "metadata": {},
   "outputs": [
    {
     "data": {
      "text/plain": [
       "20"
      ]
     },
     "execution_count": 13,
     "metadata": {},
     "output_type": "execute_result"
    }
   ],
   "source": [
    "sadate"
   ]
  },
  {
   "cell_type": "code",
   "execution_count": 14,
   "id": "54f9f40d",
   "metadata": {},
   "outputs": [
    {
     "data": {
      "text/plain": [
       "50.6"
      ]
     },
     "execution_count": 14,
     "metadata": {},
     "output_type": "execute_result"
    }
   ],
   "source": [
    "entier = 10\n",
    "virgule = 40.6\n",
    "entier + virgule"
   ]
  },
  {
   "cell_type": "markdown",
   "id": "4e573038",
   "metadata": {},
   "source": [
    "### Deuxième ligne"
   ]
  },
  {
   "cell_type": "code",
   "execution_count": 15,
   "id": "3ee252d9",
   "metadata": {},
   "outputs": [],
   "source": [
    "motcle = \"Macron\""
   ]
  },
  {
   "cell_type": "code",
   "execution_count": 16,
   "id": "e9d79b39",
   "metadata": {},
   "outputs": [
    {
     "data": {
      "text/plain": [
       "'Macron'"
      ]
     },
     "execution_count": 16,
     "metadata": {},
     "output_type": "execute_result"
    }
   ],
   "source": [
    "motcle"
   ]
  },
  {
   "cell_type": "code",
   "execution_count": 17,
   "id": "e428645e",
   "metadata": {},
   "outputs": [
    {
     "ename": "TypeError",
     "evalue": "can only concatenate str (not \"int\") to str",
     "output_type": "error",
     "traceback": [
      "\u001b[1;31m---------------------------------------------------------------------------\u001b[0m",
      "\u001b[1;31mTypeError\u001b[0m                                 Traceback (most recent call last)",
      "\u001b[1;32m<ipython-input-17-a0d41d362f5c>\u001b[0m in \u001b[0;36m<module>\u001b[1;34m\u001b[0m\n\u001b[1;32m----> 1\u001b[1;33m \u001b[0mmotcle\u001b[0m \u001b[1;33m+\u001b[0m \u001b[1;36m10\u001b[0m\u001b[1;33m\u001b[0m\u001b[1;33m\u001b[0m\u001b[0m\n\u001b[0m",
      "\u001b[1;31mTypeError\u001b[0m: can only concatenate str (not \"int\") to str"
     ]
    }
   ],
   "source": [
    "motcle + 10"
   ]
  },
  {
   "cell_type": "code",
   "execution_count": 18,
   "id": "6d6c2be9",
   "metadata": {},
   "outputs": [
    {
     "data": {
      "text/plain": [
       "'Macron Président de la République'"
      ]
     },
     "execution_count": 18,
     "metadata": {},
     "output_type": "execute_result"
    }
   ],
   "source": [
    "motcle + \" Président de la République\""
   ]
  },
  {
   "cell_type": "code",
   "execution_count": 19,
   "id": "7a505103",
   "metadata": {
    "scrolled": true
   },
   "outputs": [
    {
     "name": "stdout",
     "output_type": "stream",
     "text": [
      "Macron Président de la République\n"
     ]
    }
   ],
   "source": [
    "nouvelle_chaine = motcle + \" Président de la République\"\n",
    "print(nouvelle_chaine)"
   ]
  },
  {
   "cell_type": "markdown",
   "id": "534ad8b1",
   "metadata": {},
   "source": [
    "Longueur d'une chaîne de caractères"
   ]
  },
  {
   "cell_type": "code",
   "execution_count": 20,
   "id": "a4bba0cf",
   "metadata": {},
   "outputs": [
    {
     "data": {
      "text/plain": [
       "33"
      ]
     },
     "execution_count": 20,
     "metadata": {},
     "output_type": "execute_result"
    }
   ],
   "source": [
    "len(nouvelle_chaine)"
   ]
  },
  {
   "cell_type": "code",
   "execution_count": 21,
   "id": "fec67094",
   "metadata": {},
   "outputs": [
    {
     "data": {
      "text/plain": [
       "'M'"
      ]
     },
     "execution_count": 21,
     "metadata": {},
     "output_type": "execute_result"
    }
   ],
   "source": [
    "nouvelle_chaine[0]"
   ]
  },
  {
   "cell_type": "code",
   "execution_count": 22,
   "id": "6ba41857",
   "metadata": {},
   "outputs": [
    {
     "name": "stdout",
     "output_type": "stream",
     "text": [
      "Macron Président de la République\n",
      "nouvelle_chaine\n"
     ]
    }
   ],
   "source": [
    "print(nouvelle_chaine)\n",
    "print(\"nouvelle_chaine\")"
   ]
  },
  {
   "cell_type": "markdown",
   "id": "d56d4512",
   "metadata": {},
   "source": [
    "### Troisième ligne"
   ]
  },
  {
   "cell_type": "code",
   "execution_count": 23,
   "id": "407ce5e7",
   "metadata": {},
   "outputs": [],
   "source": [
    "titres = [\" C'est l'histoire de deux potes... Les youtubeurs  McFly et Carlito vont bientôt tourner à l'Elysée une vidéo avec Emmanuel Macron, à la suite d'un pari gagné avec le chef de l'Etat. Portrait de ces deux rois du Web. \",\n",
    " \" McFly et Carlito aux portes de l'Elysée Si la vidéo des deux youtubeurs sur les gestes barrière atteint 10 millions de vues, le chef de l'Etat les recevra. Et c'est bien parti. \",\n",
    " ' Par Rosalie Lucas  Mcfly et Carlito, ministres ',\n",
    " \" Macron contre  McFly et Carlito : match nul et deux gagnants Les deux youtubeurs à succès ont mis en ligne hier matin la vidéo de leur concours d'anecdotes avec le président de la République. Un coup de com déjà vu par 6,7 millions de personnes. \",\n",
    " \" Devant  McFly et Carlito, Macron veut séduire les jeunes Dans la vidéo postée dimanche, il s'engage à mettre une photo des deux youtubeurs sur son bureau lors d'une prochaine prise de parole. \"]"
   ]
  },
  {
   "cell_type": "code",
   "execution_count": 24,
   "id": "30626033",
   "metadata": {},
   "outputs": [
    {
     "data": {
      "text/plain": [
       "list"
      ]
     },
     "execution_count": 24,
     "metadata": {},
     "output_type": "execute_result"
    }
   ],
   "source": [
    "type(titres)"
   ]
  },
  {
   "cell_type": "code",
   "execution_count": 25,
   "id": "49438f7c",
   "metadata": {},
   "outputs": [
    {
     "data": {
      "text/plain": [
       "\" McFly et Carlito aux portes de l'Elysée Si la vidéo des deux youtubeurs sur les gestes barrière atteint 10 millions de vues, le chef de l'Etat les recevra. Et c'est bien parti. \""
      ]
     },
     "execution_count": 25,
     "metadata": {},
     "output_type": "execute_result"
    }
   ],
   "source": [
    "titres[1]"
   ]
  },
  {
   "cell_type": "code",
   "execution_count": 26,
   "id": "be93faee",
   "metadata": {},
   "outputs": [
    {
     "data": {
      "text/plain": [
       "178"
      ]
     },
     "execution_count": 26,
     "metadata": {},
     "output_type": "execute_result"
    }
   ],
   "source": [
    "len(titres[1])"
   ]
  },
  {
   "cell_type": "code",
   "execution_count": 27,
   "id": "11eb8d01",
   "metadata": {},
   "outputs": [
    {
     "data": {
      "text/plain": [
       "5"
      ]
     },
     "execution_count": 27,
     "metadata": {},
     "output_type": "execute_result"
    }
   ],
   "source": [
    "len(titres)"
   ]
  },
  {
   "cell_type": "code",
   "execution_count": 28,
   "id": "57cd5d02",
   "metadata": {
    "scrolled": true
   },
   "outputs": [
    {
     "data": {
      "text/plain": [
       "[' Par Rosalie Lucas  Mcfly et Carlito, ministres ',\n",
       " \" Macron contre  McFly et Carlito : match nul et deux gagnants Les deux youtubeurs à succès ont mis en ligne hier matin la vidéo de leur concours d'anecdotes avec le président de la République. Un coup de com déjà vu par 6,7 millions de personnes. \"]"
      ]
     },
     "execution_count": 28,
     "metadata": {},
     "output_type": "execute_result"
    }
   ],
   "source": [
    "titres[2:4]"
   ]
  },
  {
   "cell_type": "code",
   "execution_count": 33,
   "id": "da75e6ab",
   "metadata": {},
   "outputs": [
    {
     "data": {
      "text/plain": [
       "2"
      ]
     },
     "execution_count": 33,
     "metadata": {},
     "output_type": "execute_result"
    }
   ],
   "source": [
    "len(titres[2:4])"
   ]
  },
  {
   "cell_type": "markdown",
   "id": "e074fbb0",
   "metadata": {},
   "source": [
    "### Exemple de dictionnaire"
   ]
  },
  {
   "cell_type": "code",
   "execution_count": 29,
   "id": "a442a729",
   "metadata": {},
   "outputs": [],
   "source": [
    "dictionnaire_vide = {}"
   ]
  },
  {
   "cell_type": "code",
   "execution_count": 30,
   "id": "bef511a2",
   "metadata": {},
   "outputs": [
    {
     "data": {
      "text/plain": [
       "dict"
      ]
     },
     "execution_count": 30,
     "metadata": {},
     "output_type": "execute_result"
    }
   ],
   "source": [
    "type(dictionnaire_vide)"
   ]
  },
  {
   "cell_type": "code",
   "execution_count": 31,
   "id": "5b058aa0",
   "metadata": {},
   "outputs": [],
   "source": [
    "dictionnaire_vide[\"Nom\"] = \"Prénom\""
   ]
  },
  {
   "cell_type": "code",
   "execution_count": 32,
   "id": "fe718b5a",
   "metadata": {},
   "outputs": [
    {
     "data": {
      "text/plain": [
       "{'Nom': 'Prénom'}"
      ]
     },
     "execution_count": 32,
     "metadata": {},
     "output_type": "execute_result"
    }
   ],
   "source": [
    "dictionnaire_vide"
   ]
  },
  {
   "cell_type": "code",
   "execution_count": 34,
   "id": "bee48e47",
   "metadata": {},
   "outputs": [
    {
     "data": {
      "text/plain": [
       "'Prénom'"
      ]
     },
     "execution_count": 34,
     "metadata": {},
     "output_type": "execute_result"
    }
   ],
   "source": [
    "dictionnaire_vide[\"Nom\"]"
   ]
  },
  {
   "cell_type": "code",
   "execution_count": 35,
   "id": "1238211e",
   "metadata": {},
   "outputs": [],
   "source": [
    "article = {\"Titre\":\"Ici le titre\",\n",
    "           \"Date\":\"10-16-2020\",\n",
    "           \"Auteur\":\"Journaliste inconnu\"}"
   ]
  },
  {
   "cell_type": "code",
   "execution_count": 36,
   "id": "1206c95b",
   "metadata": {},
   "outputs": [
    {
     "data": {
      "text/plain": [
       "{'Titre': 'Ici le titre',\n",
       " 'Date': '10-16-2020',\n",
       " 'Auteur': 'Journaliste inconnu'}"
      ]
     },
     "execution_count": 36,
     "metadata": {},
     "output_type": "execute_result"
    }
   ],
   "source": [
    "article"
   ]
  },
  {
   "cell_type": "code",
   "execution_count": 37,
   "id": "a4d3534a",
   "metadata": {},
   "outputs": [
    {
     "data": {
      "text/plain": [
       "'10-16-2020'"
      ]
     },
     "execution_count": 37,
     "metadata": {},
     "output_type": "execute_result"
    }
   ],
   "source": [
    "article[\"Date\"]"
   ]
  },
  {
   "cell_type": "markdown",
   "id": "ed70dc3b",
   "metadata": {},
   "source": [
    "Tuple"
   ]
  },
  {
   "cell_type": "code",
   "execution_count": 38,
   "id": "add39ef3",
   "metadata": {},
   "outputs": [],
   "source": [
    "un_tuple = (1,2,3,\"coucou\")"
   ]
  },
  {
   "cell_type": "code",
   "execution_count": 39,
   "id": "ec338d20",
   "metadata": {},
   "outputs": [
    {
     "data": {
      "text/plain": [
       "tuple"
      ]
     },
     "execution_count": 39,
     "metadata": {},
     "output_type": "execute_result"
    }
   ],
   "source": [
    "type(un_tuple)"
   ]
  },
  {
   "cell_type": "markdown",
   "id": "82669992",
   "metadata": {},
   "source": [
    "Booléens"
   ]
  },
  {
   "cell_type": "code",
   "execution_count": 40,
   "id": "612cdb77",
   "metadata": {},
   "outputs": [],
   "source": [
    "statut = True"
   ]
  },
  {
   "cell_type": "code",
   "execution_count": 41,
   "id": "431218aa",
   "metadata": {},
   "outputs": [
    {
     "data": {
      "text/plain": [
       "True"
      ]
     },
     "execution_count": 41,
     "metadata": {},
     "output_type": "execute_result"
    }
   ],
   "source": [
    "statut"
   ]
  },
  {
   "cell_type": "markdown",
   "id": "04c4c907",
   "metadata": {},
   "source": [
    "### Propriétés et méthodes"
   ]
  },
  {
   "cell_type": "code",
   "execution_count": 42,
   "id": "0fb7610c",
   "metadata": {},
   "outputs": [],
   "source": [
    "une_liste = []"
   ]
  },
  {
   "cell_type": "code",
   "execution_count": 43,
   "id": "f3c1434e",
   "metadata": {},
   "outputs": [
    {
     "data": {
      "text/plain": [
       "0"
      ]
     },
     "execution_count": 43,
     "metadata": {},
     "output_type": "execute_result"
    }
   ],
   "source": [
    "len(une_liste)"
   ]
  },
  {
   "cell_type": "code",
   "execution_count": 44,
   "id": "0ffcf778",
   "metadata": {},
   "outputs": [],
   "source": [
    "une_liste.append(\"Premier élément\")"
   ]
  },
  {
   "cell_type": "code",
   "execution_count": 45,
   "id": "74b03716",
   "metadata": {},
   "outputs": [
    {
     "data": {
      "text/plain": [
       "['Premier élément']"
      ]
     },
     "execution_count": 45,
     "metadata": {},
     "output_type": "execute_result"
    }
   ],
   "source": [
    "une_liste"
   ]
  },
  {
   "cell_type": "code",
   "execution_count": 46,
   "id": "93c4b115",
   "metadata": {},
   "outputs": [],
   "source": [
    "une_liste.append(\"Premier élément\")"
   ]
  },
  {
   "cell_type": "code",
   "execution_count": 48,
   "id": "3812a7dc",
   "metadata": {},
   "outputs": [
    {
     "data": {
      "text/plain": [
       "['Premier élément', 'Premier élément']"
      ]
     },
     "execution_count": 48,
     "metadata": {},
     "output_type": "execute_result"
    }
   ],
   "source": [
    "une_liste"
   ]
  },
  {
   "cell_type": "code",
   "execution_count": 52,
   "id": "779acd2f",
   "metadata": {},
   "outputs": [],
   "source": [
    "list?"
   ]
  },
  {
   "cell_type": "code",
   "execution_count": 53,
   "id": "ba2552e8",
   "metadata": {},
   "outputs": [],
   "source": [
    "phrase = \"Ceci est une phrase. Ceci en est une autre.\""
   ]
  },
  {
   "cell_type": "code",
   "execution_count": 54,
   "id": "09a01013",
   "metadata": {},
   "outputs": [
    {
     "data": {
      "text/plain": [
       "['Ceci est une phrase', ' Ceci en est une autre', '']"
      ]
     },
     "execution_count": 54,
     "metadata": {},
     "output_type": "execute_result"
    }
   ],
   "source": [
    "phrase.split(\".\")"
   ]
  },
  {
   "cell_type": "markdown",
   "id": "9d5449f9",
   "metadata": {},
   "source": [
    "### Les blocs du code"
   ]
  },
  {
   "cell_type": "markdown",
   "id": "b2e2ea54",
   "metadata": {},
   "source": [
    "``` python\n",
    "if nombre_total_articles > 0:\n",
    "    le code à exécuter\n",
    "````"
   ]
  },
  {
   "cell_type": "code",
   "execution_count": 55,
   "id": "e5f69634",
   "metadata": {},
   "outputs": [
    {
     "name": "stdout",
     "output_type": "stream",
     "text": [
      "Bonjour\n"
     ]
    }
   ],
   "source": [
    "if 1 > 0:\n",
    "    print(\"Bonjour\")"
   ]
  },
  {
   "cell_type": "code",
   "execution_count": 56,
   "id": "181e5fec",
   "metadata": {},
   "outputs": [],
   "source": [
    "if 1 > 10:\n",
    "    print(\"Bonjour\")"
   ]
  },
  {
   "cell_type": "code",
   "execution_count": 57,
   "id": "28a04c8f",
   "metadata": {},
   "outputs": [
    {
     "data": {
      "text/plain": [
       "True"
      ]
     },
     "execution_count": 57,
     "metadata": {},
     "output_type": "execute_result"
    }
   ],
   "source": [
    "1 > 0"
   ]
  },
  {
   "cell_type": "code",
   "execution_count": 58,
   "id": "63aca536",
   "metadata": {},
   "outputs": [
    {
     "data": {
      "text/plain": [
       "False"
      ]
     },
     "execution_count": 58,
     "metadata": {},
     "output_type": "execute_result"
    }
   ],
   "source": [
    "1 > 10"
   ]
  },
  {
   "cell_type": "code",
   "execution_count": 59,
   "id": "34071b10",
   "metadata": {},
   "outputs": [
    {
     "name": "stdout",
     "output_type": "stream",
     "text": [
      "Total plus grand que 10\n"
     ]
    }
   ],
   "source": [
    "total = 100\n",
    "if total > 10:\n",
    "    print(\"Total plus grand que 10\")\n",
    "else:\n",
    "    print(\"Total plus petit que 10\")"
   ]
  },
  {
   "cell_type": "markdown",
   "id": "f86b8509",
   "metadata": {},
   "source": [
    "## Les conditions"
   ]
  },
  {
   "cell_type": "code",
   "execution_count": 61,
   "id": "bd6382ea",
   "metadata": {},
   "outputs": [
    {
     "name": "stdout",
     "output_type": "stream",
     "text": [
      "100\n"
     ]
    }
   ],
   "source": [
    "if (total > 10) and (total <= 100):\n",
    "    print(total)"
   ]
  },
  {
   "cell_type": "code",
   "execution_count": 62,
   "id": "fdb80e70",
   "metadata": {},
   "outputs": [],
   "source": [
    "fruits = [\"pomme\",\"poire\"]"
   ]
  },
  {
   "cell_type": "code",
   "execution_count": 63,
   "id": "69a5449f",
   "metadata": {},
   "outputs": [
    {
     "data": {
      "text/plain": [
       "False"
      ]
     },
     "execution_count": 63,
     "metadata": {},
     "output_type": "execute_result"
    }
   ],
   "source": [
    "\"banane\" in fruits"
   ]
  },
  {
   "cell_type": "markdown",
   "id": "2b5330bb",
   "metadata": {},
   "source": [
    "## Les boucles"
   ]
  },
  {
   "cell_type": "markdown",
   "id": "a210f841",
   "metadata": {},
   "source": [
    "``` python\n",
    "    for i in titres:\n",
    "        if motcle in i:\n",
    "            print(i)\n",
    "            nombre_articles+=1\n",
    "```"
   ]
  },
  {
   "cell_type": "code",
   "execution_count": 68,
   "id": "9b3c2a98",
   "metadata": {},
   "outputs": [
    {
     "name": "stdout",
     "output_type": "stream",
     "text": [
      "217\n",
      "178\n",
      "48\n",
      "247\n",
      "193\n"
     ]
    }
   ],
   "source": [
    "for i in titres:\n",
    "    print(len(i))"
   ]
  },
  {
   "cell_type": "markdown",
   "id": "1e5f942d",
   "metadata": {},
   "source": [
    "## Mise en forme"
   ]
  },
  {
   "cell_type": "code",
   "execution_count": 74,
   "id": "12ff78b0",
   "metadata": {},
   "outputs": [],
   "source": [
    "proportion = 100*nombre_articles/nombre_total_articles\n"
   ]
  },
  {
   "cell_type": "code",
   "execution_count": 75,
   "id": "3ec8272b",
   "metadata": {},
   "outputs": [
    {
     "data": {
      "text/plain": [
       "60.0"
      ]
     },
     "execution_count": 75,
     "metadata": {},
     "output_type": "execute_result"
    }
   ],
   "source": [
    "proportion"
   ]
  },
  {
   "cell_type": "code",
   "execution_count": 78,
   "id": "09bd6481",
   "metadata": {},
   "outputs": [
    {
     "name": "stdout",
     "output_type": "stream",
     "text": [
      "Proportion d'articles contenant le terme dans le titre : 60.0 %\n"
     ]
    }
   ],
   "source": [
    "print(\"Proportion d'articles contenant le terme dans le titre : {} %\".format(proportion))"
   ]
  },
  {
   "cell_type": "code",
   "execution_count": 80,
   "id": "6e303497",
   "metadata": {},
   "outputs": [
    {
     "data": {
      "text/plain": [
       "23.32"
      ]
     },
     "execution_count": 80,
     "metadata": {},
     "output_type": "execute_result"
    }
   ],
   "source": [
    "round(23.323232332,2)"
   ]
  },
  {
   "cell_type": "code",
   "execution_count": 82,
   "id": "ac616daa",
   "metadata": {},
   "outputs": [],
   "source": [
    "round?"
   ]
  },
  {
   "cell_type": "markdown",
   "id": "e6009690",
   "metadata": {},
   "source": [
    "## Fonctions"
   ]
  },
  {
   "cell_type": "code",
   "execution_count": 83,
   "id": "5196acda",
   "metadata": {},
   "outputs": [],
   "source": [
    "chaine = \"Une phrase comme celle-ci\""
   ]
  },
  {
   "cell_type": "code",
   "execution_count": 84,
   "id": "00257bf4",
   "metadata": {},
   "outputs": [
    {
     "data": {
      "text/plain": [
       "4"
      ]
     },
     "execution_count": 84,
     "metadata": {},
     "output_type": "execute_result"
    }
   ],
   "source": [
    "len(chaine.split(\" \"))"
   ]
  },
  {
   "cell_type": "code",
   "execution_count": 87,
   "id": "359c09d6",
   "metadata": {},
   "outputs": [],
   "source": [
    "def compter_mots(texte):\n",
    "    nombre_mots = len(texte.split(\" \"))\n",
    "    return nombre_mots"
   ]
  },
  {
   "cell_type": "code",
   "execution_count": 86,
   "id": "584f7ae7",
   "metadata": {},
   "outputs": [
    {
     "ename": "NameError",
     "evalue": "name 'texte' is not defined",
     "output_type": "error",
     "traceback": [
      "\u001b[1;31m---------------------------------------------------------------------------\u001b[0m",
      "\u001b[1;31mNameError\u001b[0m                                 Traceback (most recent call last)",
      "\u001b[1;32m<ipython-input-86-9e1bfac82220>\u001b[0m in \u001b[0;36m<module>\u001b[1;34m\u001b[0m\n\u001b[1;32m----> 1\u001b[1;33m \u001b[0mtexte\u001b[0m\u001b[1;33m\u001b[0m\u001b[1;33m\u001b[0m\u001b[0m\n\u001b[0m",
      "\u001b[1;31mNameError\u001b[0m: name 'texte' is not defined"
     ]
    }
   ],
   "source": [
    "texte"
   ]
  },
  {
   "cell_type": "code",
   "execution_count": 88,
   "id": "acf47b09",
   "metadata": {},
   "outputs": [
    {
     "data": {
      "text/plain": [
       "3"
      ]
     },
     "execution_count": 88,
     "metadata": {},
     "output_type": "execute_result"
    }
   ],
   "source": [
    "compter_mots(\"Donner une phrase\")"
   ]
  },
  {
   "cell_type": "code",
   "execution_count": 89,
   "id": "7c5c1c99",
   "metadata": {},
   "outputs": [
    {
     "data": {
      "text/plain": [
       "7"
      ]
     },
     "execution_count": 89,
     "metadata": {},
     "output_type": "execute_result"
    }
   ],
   "source": [
    "compter_mots(\"Une autre phrase ici qui est différente\")"
   ]
  },
  {
   "cell_type": "code",
   "execution_count": 90,
   "id": "cd665071",
   "metadata": {},
   "outputs": [],
   "source": [
    "def compter_mots(texte):\n",
    "    \n",
    "    if type(texte) != str:\n",
    "        print(\"Erreur de type\")\n",
    "        return None\n",
    "\n",
    "    nombre_mots = len(texte.split(\" \"))\n",
    "    return nombre_mots"
   ]
  },
  {
   "cell_type": "code",
   "execution_count": 91,
   "id": "819c06b4",
   "metadata": {},
   "outputs": [
    {
     "name": "stdout",
     "output_type": "stream",
     "text": [
      "Erreur de type\n"
     ]
    }
   ],
   "source": [
    "compter_mots(10)"
   ]
  },
  {
   "cell_type": "markdown",
   "id": "c826232e",
   "metadata": {},
   "source": [
    "## Lecture et écriture de fichiers"
   ]
  },
  {
   "cell_type": "code",
   "execution_count": 92,
   "id": "63c3feac",
   "metadata": {},
   "outputs": [
    {
     "name": "stdout",
     "output_type": "stream",
     "text": [
      "C:\\Users\\buurfist014\n"
     ]
    }
   ],
   "source": [
    "cd ."
   ]
  },
  {
   "cell_type": "code",
   "execution_count": 93,
   "id": "78da3899",
   "metadata": {},
   "outputs": [
    {
     "name": "stdout",
     "output_type": "stream",
     "text": [
      "C:\\Users\\buurfist014\\Downloads\\2021 URFIS Lyon\n"
     ]
    }
   ],
   "source": [
    "cd \"./Downloads/2021 URFIS Lyon/\""
   ]
  },
  {
   "cell_type": "code",
   "execution_count": 95,
   "id": "4b7db1d3",
   "metadata": {},
   "outputs": [
    {
     "name": "stdout",
     "output_type": "stream",
     "text": [
      "C:\\Users\\buurfist014\\Downloads\\2021 URFIS Lyon\\Module 1 - Python\\Data\n"
     ]
    }
   ],
   "source": [
    "cd \"./Data/\""
   ]
  },
  {
   "cell_type": "code",
   "execution_count": 96,
   "id": "eba0089f",
   "metadata": {},
   "outputs": [
    {
     "name": "stdout",
     "output_type": "stream",
     "text": [
      " Le volume dans le lecteur C s’appelle Windows\n",
      " Le numéro de série du volume est 1A4D-96E3\n",
      "\n",
      " Répertoire de C:\\Users\\buurfist014\\Downloads\\2021 URFIS Lyon\\Module 1 - Python\\Data\n",
      "\n",
      "03/06/2021  10:05    <DIR>          .\n",
      "03/06/2021  10:05    <DIR>          ..\n",
      "03/06/2021  10:05           457 316 biblioeuropresse20210530102955.HTML\n",
      "03/06/2021  11:44           272 341 Corpus.csv\n",
      "03/06/2021  10:05           314 880 Corpus.xls\n",
      "03/06/2021  10:05             1 334 script.py\n",
      "               4 fichier(s)        1 045 871 octets\n",
      "               2 Rép(s)  31 508 963 328 octets libres\n"
     ]
    }
   ],
   "source": [
    "ls"
   ]
  },
  {
   "cell_type": "code",
   "execution_count": 104,
   "id": "40c79ae4",
   "metadata": {},
   "outputs": [],
   "source": [
    "with open(\"./Corpus.csv\",\"r\", encoding=\"utf8\") as fichier:\n",
    "    donnees = fichier.readlines()"
   ]
  },
  {
   "cell_type": "code",
   "execution_count": 108,
   "id": "513a3a8f",
   "metadata": {
    "scrolled": false
   },
   "outputs": [
    {
     "name": "stdout",
     "output_type": "stream",
     "text": [
      "1\n",
      "901\n",
      "658\n",
      "337\n",
      "740\n",
      "707\n",
      "510\n",
      "216\n",
      "731\n",
      "104\n",
      "331\n",
      "1182\n",
      "755\n",
      "959\n",
      "299\n",
      "990\n",
      "1118\n",
      "1032\n",
      "664\n",
      "331\n",
      "670\n",
      "526\n",
      "126\n",
      "336\n",
      "419\n",
      "1724\n",
      "348\n",
      "844\n",
      "72\n",
      "206\n",
      "404\n",
      "648\n",
      "506\n",
      "1145\n",
      "972\n",
      "38\n",
      "494\n",
      "736\n",
      "772\n",
      "920\n",
      "1263\n",
      "430\n",
      "732\n",
      "369\n",
      "202\n",
      "1102\n",
      "681\n",
      "1382\n",
      "348\n",
      "193\n",
      "947\n",
      "1165\n",
      "421\n",
      "1051\n",
      "72\n",
      "704\n",
      "629\n",
      "607\n",
      "348\n",
      "1346\n",
      "843\n",
      "362\n",
      "388\n",
      "444\n",
      "285\n",
      "762\n",
      "658\n",
      "160\n",
      "544\n",
      "990\n",
      "936\n"
     ]
    }
   ],
   "source": [
    "for article in donnees:\n",
    "    print(compter_mots(article))"
   ]
  }
 ],
 "metadata": {
  "kernelspec": {
   "display_name": "Python 3",
   "language": "python",
   "name": "python3"
  },
  "language_info": {
   "codemirror_mode": {
    "name": "ipython",
    "version": 3
   },
   "file_extension": ".py",
   "mimetype": "text/x-python",
   "name": "python",
   "nbconvert_exporter": "python",
   "pygments_lexer": "ipython3",
   "version": "3.7.10"
  }
 },
 "nbformat": 4,
 "nbformat_minor": 5
}
