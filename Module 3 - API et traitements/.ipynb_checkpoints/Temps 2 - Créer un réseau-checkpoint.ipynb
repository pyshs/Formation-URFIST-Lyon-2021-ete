{
 "cells": [
  {
   "cell_type": "markdown",
   "id": "portable-personal",
   "metadata": {},
   "source": [
    "# Créer un réseau"
   ]
  },
  {
   "cell_type": "markdown",
   "id": "casual-telescope",
   "metadata": {},
   "source": [
    "### Créer un réseau\n",
    "\n",
    "Faisons un peu de manipulation"
   ]
  },
  {
   "cell_type": "code",
   "execution_count": 4,
   "id": "fleet-briefing",
   "metadata": {},
   "outputs": [],
   "source": [
    "import networkx as nx"
   ]
  },
  {
   "cell_type": "code",
   "execution_count": 5,
   "id": "brutal-weight",
   "metadata": {},
   "outputs": [],
   "source": [
    "G = nx.Graph()"
   ]
  },
  {
   "cell_type": "code",
   "execution_count": 10,
   "id": "proved-indonesia",
   "metadata": {},
   "outputs": [],
   "source": [
    "G.add_nodes_from([\"moi\",\"lui\",\"elle\"],size=10)"
   ]
  },
  {
   "cell_type": "code",
   "execution_count": 12,
   "id": "animal-tyler",
   "metadata": {},
   "outputs": [],
   "source": [
    "G.add_edges_from([[\"moi\",\"lui\"],[\"lui\",\"elle\"]])"
   ]
  },
  {
   "cell_type": "code",
   "execution_count": 13,
   "id": "sharp-chinese",
   "metadata": {},
   "outputs": [
    {
     "data": {
      "text/plain": [
       "NodeDataView({'moi': {'size': 10}, 'lui': {'size': 10}, 'elle': {'size': 10}})"
      ]
     },
     "execution_count": 13,
     "metadata": {},
     "output_type": "execute_result"
    }
   ],
   "source": [
    "G.nodes.data()"
   ]
  },
  {
   "cell_type": "code",
   "execution_count": 14,
   "id": "funky-colony",
   "metadata": {},
   "outputs": [
    {
     "data": {
      "text/plain": [
       "EdgeDataView([('moi', 'lui', {}), ('lui', 'elle', {})])"
      ]
     },
     "execution_count": 14,
     "metadata": {},
     "output_type": "execute_result"
    }
   ],
   "source": [
    "G.edges.data()"
   ]
  },
  {
   "cell_type": "code",
   "execution_count": 15,
   "id": "foreign-conservative",
   "metadata": {},
   "outputs": [
    {
     "data": {
      "text/plain": [
       "<networkx.classes.graph.Graph at 0x7fdd671a7810>"
      ]
     },
     "execution_count": 15,
     "metadata": {},
     "output_type": "execute_result"
    }
   ],
   "source": [
    "G"
   ]
  },
  {
   "cell_type": "markdown",
   "id": "aggregate-sarah",
   "metadata": {},
   "source": [
    "### Construire notre réseau"
   ]
  },
  {
   "cell_type": "markdown",
   "id": "better-sellers",
   "metadata": {},
   "source": [
    "#### Charger des données"
   ]
  },
  {
   "cell_type": "code",
   "execution_count": 1,
   "id": "developing-bikini",
   "metadata": {},
   "outputs": [],
   "source": [
    "import json\n",
    "with open(\"./wiki.json\",\"r\") as f:\n",
    "    corpus = json.load(f)"
   ]
  },
  {
   "cell_type": "markdown",
   "id": "yellow-board",
   "metadata": {},
   "source": [
    "### Faire des statistiques"
   ]
  },
  {
   "cell_type": "markdown",
   "id": "behind-missouri",
   "metadata": {},
   "source": [
    "### Visualiser"
   ]
  },
  {
   "cell_type": "markdown",
   "id": "backed-token",
   "metadata": {},
   "source": [
    "https://towardsdatascience.com/visualizing-networks-in-python-d70f4cbeb259\n",
    "\n",
    "https://pyvis.readthedocs.io/en/latest/tutorial.html#networkx-integration"
   ]
  },
  {
   "cell_type": "code",
   "execution_count": 23,
   "id": "otherwise-intervention",
   "metadata": {
    "scrolled": false
   },
   "outputs": [
    {
     "data": {
      "text/html": [
       "\n",
       "        <iframe\n",
       "            width=\"500px\"\n",
       "            height=\"500px\"\n",
       "            src=\"test.html\"\n",
       "            frameborder=\"0\"\n",
       "            allowfullscreen\n",
       "        ></iframe>\n",
       "        "
      ],
      "text/plain": [
       "<IPython.lib.display.IFrame at 0x7fdd666a7550>"
      ]
     },
     "execution_count": 23,
     "metadata": {},
     "output_type": "execute_result"
    }
   ],
   "source": [
    "from pyvis.network import Network\n",
    "net = Network(notebook=True)\n",
    "net.from_nx(G)\n",
    "net.show_buttons()\n",
    "net.show(\"test.html\")"
   ]
  }
 ],
 "metadata": {
  "kernelspec": {
   "display_name": "Python 3",
   "language": "python",
   "name": "python3"
  },
  "language_info": {
   "codemirror_mode": {
    "name": "ipython",
    "version": 3
   },
   "file_extension": ".py",
   "mimetype": "text/x-python",
   "name": "python",
   "nbconvert_exporter": "python",
   "pygments_lexer": "ipython3",
   "version": "3.7.10"
  }
 },
 "nbformat": 4,
 "nbformat_minor": 5
}
